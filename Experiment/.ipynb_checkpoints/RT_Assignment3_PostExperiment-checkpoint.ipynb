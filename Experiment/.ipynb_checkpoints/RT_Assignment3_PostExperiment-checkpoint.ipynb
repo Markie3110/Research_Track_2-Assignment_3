{
 "cells": [
  {
   "cell_type": "markdown",
   "id": "2bab07b8",
   "metadata": {
    "ExecuteTime": {
     "end_time": "2024-05-28T21:25:41.252859Z",
     "start_time": "2024-05-28T21:25:41.246705Z"
    }
   },
   "source": [
    "## Import packages"
   ]
  },
  {
   "cell_type": "code",
   "execution_count": 1,
   "id": "619a45d3",
   "metadata": {
    "ExecuteTime": {
     "end_time": "2024-05-28T22:51:40.517096Z",
     "start_time": "2024-05-28T22:51:39.939494Z"
    }
   },
   "outputs": [],
   "source": [
    "import matplotlib.pyplot as plt\n",
    "import numpy as np\n",
    "import math"
   ]
  },
  {
   "cell_type": "markdown",
   "id": "b8cca154",
   "metadata": {},
   "source": [
    "## Data Capture"
   ]
  },
  {
   "cell_type": "code",
   "execution_count": 2,
   "id": "1c4e47b4",
   "metadata": {
    "ExecuteTime": {
     "end_time": "2024-05-28T22:51:40.520658Z",
     "start_time": "2024-05-28T22:51:40.518367Z"
    }
   },
   "outputs": [],
   "source": [
    "# Declare the number of observations to be used\n",
    "obs_number = 73"
   ]
  },
  {
   "cell_type": "code",
   "execution_count": 3,
   "id": "5130c0a1",
   "metadata": {
    "ExecuteTime": {
     "end_time": "2024-05-28T22:51:40.692144Z",
     "start_time": "2024-05-28T22:51:40.522250Z"
    }
   },
   "outputs": [],
   "source": [
    "# A function to read the text files and store the data into a specific numpy array\n",
    "def read_file(np_array, file):\n",
    "    data_count = 0\n",
    "    for line in file:\n",
    "        if (data_count <= obs_number):\n",
    "            if (line == \"Fail\\n\"):\n",
    "                continue\n",
    "            else:\n",
    "                time_value = round(float(line), 2)\n",
    "                data_count = data_count + 1\n",
    "                np_array = np.append(np_array, [time_value])\n",
    "        else:\n",
    "            break\n",
    "    return np_array"
   ]
  },
  {
   "cell_type": "code",
   "execution_count": 4,
   "id": "50904ac5",
   "metadata": {
    "ExecuteTime": {
     "end_time": "2024-05-28T22:51:40.724361Z",
     "start_time": "2024-05-28T22:51:40.699509Z"
    }
   },
   "outputs": [],
   "source": [
    "# Read and store the runtimes of the Ma program into a numpy array\n",
    "data_count = 0\n",
    "Ma_array = np.empty(0)\n",
    "file_Ma = open(\"MarkProgramTime.txt\", \"r\")\n",
    "Ma_array = read_file(Ma_array, file_Ma)"
   ]
  },
  {
   "cell_type": "code",
   "execution_count": 5,
   "id": "5974250c",
   "metadata": {
    "ExecuteTime": {
     "end_time": "2024-05-28T22:51:40.748777Z",
     "start_time": "2024-05-28T22:51:40.729072Z"
    }
   },
   "outputs": [],
   "source": [
    "# Read and store the runtimes of the Mi program into a numpy array\n",
    "data_count = 0\n",
    "Mi_array = np.empty(0)\n",
    "file_Mi = open(\"MichalProgramTime.txt\", \"r\")\n",
    "Mi_array = read_file(Mi_array, file_Mi)"
   ]
  },
  {
   "cell_type": "markdown",
   "id": "88836d27",
   "metadata": {},
   "source": [
    "## Observations"
   ]
  },
  {
   "cell_type": "code",
   "execution_count": 6,
   "id": "9514ec25",
   "metadata": {
    "ExecuteTime": {
     "end_time": "2024-05-28T22:51:40.772966Z",
     "start_time": "2024-05-28T22:51:40.750590Z"
    }
   },
   "outputs": [
    {
     "name": "stdout",
     "output_type": "stream",
     "text": [
      "62.01\n",
      "137.03\n"
     ]
    }
   ],
   "source": [
    "# The minimum and maximum runtimes of Ma\n",
    "print(np.min(Ma_array))\n",
    "print(np.max(Ma_array))"
   ]
  },
  {
   "cell_type": "code",
   "execution_count": 7,
   "id": "f3815864",
   "metadata": {
    "ExecuteTime": {
     "end_time": "2024-05-28T22:51:40.797892Z",
     "start_time": "2024-05-28T22:51:40.774195Z"
    }
   },
   "outputs": [
    {
     "name": "stdout",
     "output_type": "stream",
     "text": [
      "61.98\n",
      "141.59\n"
     ]
    }
   ],
   "source": [
    "# The minimum and maximum runtimes of Mi\n",
    "print(np.min(Mi_array))\n",
    "print(np.max(Mi_array))"
   ]
  },
  {
   "cell_type": "code",
   "execution_count": 8,
   "id": "b3cf63e4",
   "metadata": {
    "ExecuteTime": {
     "end_time": "2024-05-28T22:51:40.955364Z",
     "start_time": "2024-05-28T22:51:40.799279Z"
    },
    "scrolled": false
   },
   "outputs": [
    {
     "data": {
      "image/png": "[encoded data removed]",
      "text/plain": [
       "<Figure size 640x480 with 1 Axes>"
      ]
     },
     "metadata": {},
     "output_type": "display_data"
    }
   ],
   "source": [
    "# Histogram of the Ma runtimes\n",
    "fig1, ax1 = plt.subplots()\n",
    "ax1.hist(Ma_array, bins=15, linewidth=0.5)\n",
    "ax1.set(xlim=(50, 150), xticks=np.arange(50, 150, 10), yticks=np.arange(0, 20), ylim=(0, 20))\n",
    "plt.show()"
   ]
  },
  {
   "cell_type": "markdown",
   "id": "9a2b9a52",
   "metadata": {},
   "source": [
    "Values above 130 are outliers."
   ]
  },
  {
   "cell_type": "code",
   "execution_count": 9,
   "id": "2e3c34c0",
   "metadata": {
    "ExecuteTime": {
     "end_time": "2024-05-28T22:51:41.141020Z",
     "start_time": "2024-05-28T22:51:40.958202Z"
    }
   },
   "outputs": [
    {
     "data": {
      "image/png": "[encoded data removed]",
      "text/plain": [
       "<Figure size 640x480 with 1 Axes>"
      ]
     },
     "metadata": {},
     "output_type": "display_data"
    }
   ],
   "source": [
    "# Histogram of the Mi runtimes\n",
    "fig2, ax2 = plt.subplots()\n",
    "ax2.hist(Mi_array, bins=15, linewidth=0.5)\n",
    "ax2.set(xlim=(50, 150), xticks=np.arange(50, 150, 10), yticks=np.arange(0, 20), ylim=(0, 20))\n",
    "plt.show()"
   ]
  },
  {
   "cell_type": "markdown",
   "id": "62af32c8",
   "metadata": {},
   "source": [
    "Values below 70 and above 120 are outliers."
   ]
  },
  {
   "cell_type": "markdown",
   "id": "62095092",
   "metadata": {},
   "source": [
    "## Remove outliers"
   ]
  },
  {
   "cell_type": "code",
   "execution_count": 10,
   "id": "184413cb",
   "metadata": {
    "ExecuteTime": {
     "end_time": "2024-05-28T22:51:41.145916Z",
     "start_time": "2024-05-28T22:51:41.142773Z"
    }
   },
   "outputs": [],
   "source": [
    "# Remove outliers in Ma\n",
    "i = 0\n",
    "for value in Ma_array:\n",
    "    if (value > 130):\n",
    "        Ma_array = np.delete(Ma_array, i)\n",
    "        i = i + 1"
   ]
  },
  {
   "cell_type": "code",
   "execution_count": 11,
   "id": "3d038fc9",
   "metadata": {
    "ExecuteTime": {
     "end_time": "2024-05-28T22:51:41.181078Z",
     "start_time": "2024-05-28T22:51:41.147480Z"
    }
   },
   "outputs": [],
   "source": [
    "# Remove outliers in Mi\n",
    "i = 0\n",
    "for value in Mi_array:\n",
    "    if ((value < 70) or (value > 120)):\n",
    "        Mi_array = np.delete(Mi_array, i)\n",
    "        i = i + 1"
   ]
  },
  {
   "cell_type": "markdown",
   "id": "c6fe03a5",
   "metadata": {},
   "source": [
    "## Mean and standard deviation computations"
   ]
  },
  {
   "cell_type": "code",
   "execution_count": 12,
   "id": "bf4721de",
   "metadata": {
    "ExecuteTime": {
     "end_time": "2024-05-28T22:51:41.208474Z",
     "start_time": "2024-05-28T22:51:41.182699Z"
    }
   },
   "outputs": [
    {
     "name": "stdout",
     "output_type": "stream",
     "text": [
      "Ma_mean=  86.73705882352942\n",
      "Ma_std=  15.630208031698965\n"
     ]
    }
   ],
   "source": [
    "# Mean of the Ma program runtimes\n",
    "Ma_mean = np.mean(Ma_array)\n",
    "print('Ma_mean= ', Ma_mean)\n",
    "\n",
    "# Standard deviation of the Ma program runtimes\n",
    "Ma_std = np.std(Ma_array)\n",
    "print('Ma_std= ', Ma_std)"
   ]
  },
  {
   "cell_type": "code",
   "execution_count": 13,
   "id": "58011498",
   "metadata": {
    "ExecuteTime": {
     "end_time": "2024-05-28T22:51:41.274120Z",
     "start_time": "2024-05-28T22:51:41.209830Z"
    }
   },
   "outputs": [
    {
     "name": "stdout",
     "output_type": "stream",
     "text": [
      "Mi_mean=  92.83283582089551\n",
      "Mi_std=  15.869069305250273\n"
     ]
    }
   ],
   "source": [
    "# Mean of the Mi program runtimes\n",
    "Mi_mean = np.mean(Mi_array)\n",
    "print('Mi_mean= ', Mi_mean)\n",
    "\n",
    "# Standard deviation of the Mi program runtimes\n",
    "Mi_std = np.std(Mi_array)\n",
    "print('Mi_std= ', Mi_std)"
   ]
  },
  {
   "cell_type": "markdown",
   "id": "1e891a9a",
   "metadata": {},
   "source": [
    "## Two Sample T-Test computations"
   ]
  },
  {
   "cell_type": "code",
   "execution_count": 14,
   "id": "a6640691",
   "metadata": {
    "ExecuteTime": {
     "end_time": "2024-05-28T22:51:41.347024Z",
     "start_time": "2024-05-28T22:51:41.275522Z"
    }
   },
   "outputs": [
    {
     "name": "stdout",
     "output_type": "stream",
     "text": [
      "Pooled variance=  248.03709630999788\n",
      "DOF=  133\n"
     ]
    }
   ],
   "source": [
    "# Pooled variance\n",
    "Ma_N = Ma_array.size\n",
    "Mi_N = Mi_array.size\n",
    "num = ((Ma_N-1)*(Ma_std**2)) + ((Mi_N-1)*(Mi_std**2))\n",
    "dof = Ma_N + Mi_N - 2\n",
    "pool_var = num/dof\n",
    "print(\"Pooled variance= \", pool_var)\n",
    "print(\"DOF= \", dof)"
   ]
  },
  {
   "cell_type": "code",
   "execution_count": 15,
   "id": "20b36cc8",
   "metadata": {
    "ExecuteTime": {
     "end_time": "2024-05-28T22:51:41.374200Z",
     "start_time": "2024-05-28T22:51:41.348352Z"
    }
   },
   "outputs": [
    {
     "name": "stdout",
     "output_type": "stream",
     "text": [
      "Pooled SE=  2.711023897180183\n"
     ]
    }
   ],
   "source": [
    "# Pooled SE\n",
    "n = ((Ma_N + Mi_N)/(Ma_N * Mi_N))\n",
    "pool_se = math.sqrt(pool_var * n)\n",
    "print(\"Pooled SE= \", pool_se)"
   ]
  },
  {
   "cell_type": "code",
   "execution_count": 16,
   "id": "f17bd0cd",
   "metadata": {
    "ExecuteTime": {
     "end_time": "2024-05-28T22:51:41.398812Z",
     "start_time": "2024-05-28T22:51:41.375511Z"
    }
   },
   "outputs": [
    {
     "name": "stdout",
     "output_type": "stream",
     "text": [
      "T-value=  2.248514667726274\n"
     ]
    }
   ],
   "source": [
    "# T-value\n",
    "t_value = (Mi_mean - Ma_mean)/pool_se\n",
    "print(\"T-value= \", t_value)"
   ]
  },
  {
   "cell_type": "code",
   "execution_count": null,
   "id": "49407122",
   "metadata": {},
   "outputs": [],
   "source": []
  }
 ],
 "metadata": {
  "kernelspec": {
   "display_name": "Python 3 (ipykernel)",
   "language": "python",
   "name": "python3"
  },
  "language_info": {
   "codemirror_mode": {
    "name": "ipython",
    "version": 3
   },
   "file_extension": ".py",
   "mimetype": "text/x-python",
   "name": "python",
   "nbconvert_exporter": "python",
   "pygments_lexer": "ipython3",
   "version": "3.10.12"
  },
  "toc": {
   "base_numbering": 1,
   "nav_menu": {},
   "number_sections": true,
   "sideBar": true,
   "skip_h1_title": false,
   "title_cell": "Table of Contents",
   "title_sidebar": "Contents",
   "toc_cell": false,
   "toc_position": {},
   "toc_section_display": true,
   "toc_window_display": false
  },
  "varInspector": {
   "cols": {
    "lenName": 16,
    "lenType": 16,
    "lenVar": 40
   },
   "kernels_config": {
    "python": {
     "delete_cmd_postfix": "",
     "delete_cmd_prefix": "del ",
     "library": "var_list.py",
     "varRefreshCmd": "print(var_dic_list())"
    },
    "r": {
     "delete_cmd_postfix": ") ",
     "delete_cmd_prefix": "rm(",
     "library": "var_list.r",
     "varRefreshCmd": "cat(var_dic_list()) "
    }
   },
   "types_to_exclude": [
    "module",
    "function",
    "builtin_function_or_method",
    "instance",
    "_Feature"
   ],
   "window_display": false
  }
 },
 "nbformat": 4,
 "nbformat_minor": 5
}
